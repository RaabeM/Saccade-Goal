{
 "cells": [
  {
   "cell_type": "code",
   "execution_count": 186,
   "metadata": {},
   "outputs": [],
   "source": [
    "import numpy as np\n",
    "import matplotlib.pyplot as plt\n",
    "import sys\n",
    "np.set_printoptions(threshold=sys.maxsize)\n",
    "\n",
    "from load_data import load_data"
   ]
  },
  {
   "cell_type": "code",
   "execution_count": 19,
   "metadata": {},
   "outputs": [
    {
     "data": {
      "text/plain": [
       "<matplotlib.image.AxesImage at 0x7f6f33a29e50>"
      ]
     },
     "execution_count": 19,
     "metadata": {},
     "output_type": "execute_result"
    },
    {
     "data": {
      "image/png": "[encoded data removed]",
      "text/plain": [
       "<Figure size 640x480 with 1 Axes>"
      ]
     },
     "metadata": {},
     "output_type": "display_data"
    }
   ],
   "source": [
    "def random_dots(N=32):\n",
    "    return np.random.random((N,N))\n",
    "\n",
    "sal_map = random_dots(8)\n",
    "plt.imshow(sal_map, cmap='gray')"
   ]
  },
  {
   "cell_type": "code",
   "execution_count": 303,
   "metadata": {},
   "outputs": [],
   "source": [
    "class choose_point():\n",
    "\n",
    "    def __init__(self, _WIDTH, _fov=24):\n",
    "        \"\"\"\n",
    "        _WIDTH: Width/Height of saliency map\n",
    "        _fov: Field of view\n",
    "        \"\"\"\n",
    "\n",
    "        self.WIDTH = _WIDTH\n",
    "        self.fov = _fov\n",
    "        \n",
    "        if self.WIDTH % 2 != 0:\n",
    "            self.MIDPOINT = self.WIDTH // 2\n",
    "        else:\n",
    "            self.MIDPOINT = self.WIDTH // 2 + .5 - 1\n",
    "\n",
    "        self.eccentricity_map = np.fromfunction(lambda i, j: np.sqrt((i-self.MIDPOINT)**2 + (j-self.MIDPOINT)**2), (_WIDTH, _WIDTH))\n",
    "        self.eccentricity_map *= _fov/(_WIDTH-1)\n",
    "\n",
    "        #count how often eccentricity value accures is eccentrcicity map\n",
    "        uniques, counts = np.unique(self.eccentricity_map, return_counts=True)\n",
    "\n",
    "        self.eccentricity_frequencies = np.zeros((_WIDTH, _WIDTH))\n",
    "        for i in range(_WIDTH):\n",
    "            for j in range(_WIDTH):\n",
    "                value = self.eccentricity_map[i,j]\n",
    "                index = np.where(uniques == value)[0]\n",
    "                self.eccentricity_frequencies[i,j] =  counts[index][0]\n",
    "\n",
    "\n",
    "        #load data \n",
    "        xdata, (mean_ch, error_ch), (mean_pa, error_pa), (mean_schütt, error_schütt) = load_data(hist_range=(0,uniques[-1]+1), n_bins=20)\n",
    "\n",
    "\n",
    "        self.data_mask = np.zeros((_WIDTH, _WIDTH))\n",
    "        for i in range(_WIDTH):\n",
    "            for j in range(_WIDTH):\n",
    "                ecc = self.eccentricity_map[i,j]\n",
    "                index = np.digitize(ecc, xdata)\n",
    "                self.data_mask[i,j] = mean_ch[index]\n",
    "\n",
    "\n",
    "    def sacc_goal(self, sal_map):\n",
    "        sal_map = sal_map * self.data_mask / self.eccentricity_frequencies\n",
    "        sal_map /= np.sum(sal_map)\n",
    "\n",
    "        index_list = np.arange(self.WIDTH**2)\n",
    "        choice = np.random.choice(index_list, p=sal_map.flatten())\n",
    "\n",
    "        goal_index = np.divmod(self.WIDTH-1, choice)\n",
    "\n",
    "        print(sal_map.flatten()[choice])\n",
    "        print(sal_map[goal_index])\n",
    "\n",
    "        return goal_index\n",
    "\n",
    "    \n",
    "\n",
    "a = choose_point(8, 24)"
   ]
  },
  {
   "cell_type": "code",
   "execution_count": null,
   "metadata": {},
   "outputs": [],
   "source": [
    "\n",
    "\n",
    "\n",
    "f,ax= plt.subplots(1,3, figsize=(15,5))\n",
    "\n",
    "ax[0].imshow(a.eccentricity_map)\n",
    "ax[0].grid()\n",
    "ax[0].set_xticks(np.arange(a.WIDTH))\n",
    "ax[0].set_yticks(np.arange(a.WIDTH))\n",
    "for (j,i),label in np.ndenumerate(a.eccentricity_map):\n",
    "    ax[0].text(i,j,np.round(label,2),ha='center',va='center', color='white')\n",
    "\n",
    "im = ax[1].imshow(a.eccentricity_frequencies)\n",
    "ax[1].set_xticks(np.arange(a.WIDTH))\n",
    "ax[1].set_yticks(np.arange(a.WIDTH))\n",
    "ax[1].grid()\n",
    "for (j,i),label in np.ndenumerate(a.eccentricity_frequencies):\n",
    "    ax[1].text(i,j,label,ha='center',va='center', color='white')\n",
    "\n",
    "im = ax[2].imshow(a.data_mask)\n",
    "ax[2].set_xticks(np.arange(a.WIDTH))\n",
    "ax[2].set_yticks(np.arange(a.WIDTH))\n",
    "ax[2].grid()\n",
    "for (j,i),label in np.ndenumerate(a.data_mask):\n",
    "    ax[2].text(i,j,int(label*100),ha='center',va='center', color='white')\n"
   ]
  },
  {
   "cell_type": "code",
   "execution_count": 245,
   "metadata": {},
   "outputs": [
    {
     "data": {
      "text/plain": [
       "array([[0, 1, 2],\n",
       "       [3, 4, 5],\n",
       "       [6, 7, 8]])"
      ]
     },
     "execution_count": 245,
     "metadata": {},
     "output_type": "execute_result"
    }
   ],
   "source": [
    "x = np.arange(9).reshape(3,3)\n",
    "x"
   ]
  },
  {
   "cell_type": "code",
   "execution_count": 248,
   "metadata": {},
   "outputs": [
    {
     "data": {
      "text/plain": [
       "[0, 0, 0, 0, 0, 0, 0, 0, 1]"
      ]
     },
     "execution_count": 248,
     "metadata": {},
     "output_type": "execute_result"
    }
   ],
   "source": [
    "w = [0]*8 + [1]"
   ]
  },
  {
   "cell_type": "code",
   "execution_count": 247,
   "metadata": {},
   "outputs": [
    {
     "data": {
      "text/plain": [
       "array([0, 1, 2, 3, 4, 5, 6, 7, 8])"
      ]
     },
     "execution_count": 247,
     "metadata": {},
     "output_type": "execute_result"
    }
   ],
   "source": [
    "x.flatten()"
   ]
  },
  {
   "cell_type": "code",
   "execution_count": 252,
   "metadata": {},
   "outputs": [
    {
     "data": {
      "text/plain": [
       "8"
      ]
     },
     "execution_count": 252,
     "metadata": {},
     "output_type": "execute_result"
    }
   ],
   "source": [
    "np.random.choice(x.flatten(), p=w)"
   ]
  },
  {
   "cell_type": "code",
   "execution_count": 256,
   "metadata": {},
   "outputs": [
    {
     "data": {
      "text/plain": [
       "7"
      ]
     },
     "execution_count": 256,
     "metadata": {},
     "output_type": "execute_result"
    }
   ],
   "source": [
    "x[np.divmod(7,3)]"
   ]
  },
  {
   "cell_type": "code",
   "execution_count": 304,
   "metadata": {},
   "outputs": [
    {
     "data": {
      "text/plain": [
       "array([[ 0,  1,  2,  3,  4,  5,  6,  7],\n",
       "       [ 8,  9, 10, 11, 12, 13, 14, 15],\n",
       "       [16, 17, 18, 19, 20, 21, 22, 23],\n",
       "       [24, 25, 26, 27, 28, 29, 30, 31],\n",
       "       [32, 33, 34, 35, 36, 37, 38, 39],\n",
       "       [40, 41, 42, 43, 44, 45, 46, 47],\n",
       "       [48, 49, 50, 51, 52, 53, 54, 55],\n",
       "       [56, 57, 58, 59, 60, 61, 62, 63]])"
      ]
     },
     "execution_count": 304,
     "metadata": {},
     "output_type": "execute_result"
    }
   ],
   "source": [
    "x = np.arange(8*8).reshape((8,8))\n",
    "x"
   ]
  },
  {
   "cell_type": "code",
   "execution_count": 305,
   "metadata": {},
   "outputs": [
    {
     "name": "stdout",
     "output_type": "stream",
     "text": [
      "0.05763730538608536\n",
      "0.0025413175889992335\n"
     ]
    },
    {
     "data": {
      "text/plain": [
       "(0, 7)"
      ]
     },
     "execution_count": 305,
     "metadata": {},
     "output_type": "execute_result"
    }
   ],
   "source": [
    "a.sacc_goal(x)"
   ]
  },
  {
   "cell_type": "code",
   "execution_count": null,
   "metadata": {},
   "outputs": [],
   "source": []
  }
 ],
 "metadata": {
  "kernelspec": {
   "display_name": "Python 3",
   "language": "python",
   "name": "python3"
  },
  "language_info": {
   "codemirror_mode": {
    "name": "ipython",
    "version": 3
   },
   "file_extension": ".py",
   "mimetype": "text/x-python",
   "name": "python",
   "nbconvert_exporter": "python",
   "pygments_lexer": "ipython3",
   "version": "3.8.10"
  }
 },
 "nbformat": 4,
 "nbformat_minor": 2
}
